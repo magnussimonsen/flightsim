{
 "cells": [
  {
   "cell_type": "code",
   "execution_count": 2,
   "id": "9d551cab-fb90-4553-8995-c77060100ec5",
   "metadata": {},
   "outputs": [],
   "source": [
    "import numpy as np\n",
    "import matplotlib.pyplot as plt"
   ]
  },
  {
   "cell_type": "code",
   "execution_count": 11,
   "id": "bbdd1ad9-d595-46b3-bf46-2181d8896e3a",
   "metadata": {},
   "outputs": [],
   "source": [
    "def nmperh_ftmin(nmperh):\n",
    "    #input: knots\n",
    "    #output: ft per min\n",
    "    return nmperh*6076/60\n",
    "\n",
    "def nm_ft(nm):\n",
    "    #input: nm\n",
    "    #output: ft\n",
    "    return nm*6076\n",
    "\n",
    "def landing_d_rate(deg,vk):\n",
    "    #input: degrees flight slope landing (3 degrees) and airspeed knots\n",
    "    #output: desend rate ft per min\n",
    "    return nmperh_ftmin(vk*np.tan(rad(deg)))\n",
    "\n",
    "def landing_ynm_deg(deg,xnm):\n",
    "    # input: degrees flight slope and distance airfield aircraft in nm\n",
    "    # output aircraft altitude\n",
    "    return nm_ft(ynm*np.tan(rad(deg)))\n",
    "\n",
    "def landing_xft_deg(deg,yft):\n",
    "    # input: degrees flight slope and aircraft altitude in ft\n",
    "    # output distance airfield aircraft in nm\n",
    "    return (yft/np.tan(rad(deg)))/6076\n",
    "   \n",
    "def rad(d):\n",
    "    #input: angle in degrees\n",
    "    #output: angle in radians\n",
    "    return np.pi/180*d \n",
    "\n",
    "def deg(r):\n",
    "    #input: angle in radians\n",
    "    #output: angle in degrees\n",
    "    return 180/np.pi*r\n",
    "\n",
    "def kms(k):\n",
    "    #input: velocity in knots\n",
    "    #output: velocity in meters per second\n",
    "    return k*0.5144\n",
    "\n",
    "def msk(ms):\n",
    "    #input: meter per second\n",
    "    #output: knots\n",
    "    return ms/0.5144\n",
    "\n",
    "def nmm(nm):\n",
    "    #input: distance in nautical miles\n",
    "    #output: distance in meters\n",
    "    return nm*1852\n",
    "\n",
    "def mnm(m):\n",
    "    #input: distance in meters\n",
    "    #output: distance in nautical miles\n",
    "    return m/1852\n",
    "\n",
    "def nmpermin(k):\n",
    "    #input: velocity in knots\n",
    "    #output: nautical miles per minute\n",
    "    #return round(k/60,1)\n",
    "    return k/60\n",
    "\n",
    "def bankangle(rnm,vk):\n",
    "    #input: bank radius in nautical miles and velovity in knots\n",
    "    #output: bank angle in degrees\n",
    "    rm=nmm(rnm)\n",
    "    vms=kms(vk)\n",
    "    return round(deg(np.arctan(vms**2/(rm*9.81))))\n",
    "    \n",
    "def bankradius(angledeg,vk):\n",
    "    #input: bank angle in degrees and velocity in knots\n",
    "    #output: bank radius in nautical miles\n",
    "    return  round(mnm(kms(vk)**2/(9.81*np.tan(rad(angledeg)))),1)\n",
    "\n",
    "def bankspeed(angledeg, rnm):\n",
    "    #input: bank angle in degrees and bank radius in nautical miles\n",
    "    #output: bank speed\n",
    "    return round(msk((nmm(rnm)*9.81*np.tan(rad(angledeg)))**0.5))\n",
    "\n",
    "def banktime(angdeg,rnm, vk):\n",
    "    #input: turn in degrees, radius in nm, speed in knots\n",
    "    #output: how long the bank wil takr in min \n",
    "    angrad=rad(angdeg)\n",
    "    arcnm=rad(angdeg)*rnm\n",
    "    tmin=(arcnm/vk)*60\n",
    "    return tmin\n",
    "\n",
    "def bankradiusmarshal(vk):\n",
    "    angrad=rad(180)\n",
    "    th=1/60\n",
    "    return th*vk/angrad\n",
    "    \n",
    "def bankangmarshal(vk):\n",
    "    #input: marshal speed Hornet = 250 knots\n",
    "    #output: AOB for marshal\n",
    "    angrad=rad(180)\n",
    "    th=1/60\n",
    "    rnm=th*vk/angrad\n",
    "    return bankangle(rnm,vk)\n",
    "    \n",
    "    "
   ]
  },
  {
   "cell_type": "code",
   "execution_count": 4,
   "id": "19927a09-98be-4000-9561-bc58251b4997",
   "metadata": {},
   "outputs": [
    {
     "data": {
      "text/plain": [
       "20"
      ]
     },
     "execution_count": 4,
     "metadata": {},
     "output_type": "execute_result"
    }
   ],
   "source": [
    "bankangle(2.5,250)"
   ]
  },
  {
   "cell_type": "code",
   "execution_count": 5,
   "id": "e74d8680-b775-440e-8a6b-cb6e9e0f15bd",
   "metadata": {},
   "outputs": [
    {
     "data": {
      "text/plain": [
       "2.5"
      ]
     },
     "execution_count": 5,
     "metadata": {},
     "output_type": "execute_result"
    }
   ],
   "source": [
    "bankradius(20,250)"
   ]
  },
  {
   "cell_type": "code",
   "execution_count": 7,
   "id": "de97273e-dcd1-4092-b6bf-fff70e174781",
   "metadata": {},
   "outputs": [
    {
     "data": {
      "text/plain": [
       "315"
      ]
     },
     "execution_count": 7,
     "metadata": {},
     "output_type": "execute_result"
    }
   ],
   "source": [
    "bankspeed(30,2.5)"
   ]
  },
  {
   "cell_type": "code",
   "execution_count": 99,
   "id": "e8a545af-c16c-437d-a323-da56af1ffa2e",
   "metadata": {},
   "outputs": [
    {
     "data": {
      "text/plain": [
       "4.2"
      ]
     },
     "execution_count": 99,
     "metadata": {},
     "output_type": "execute_result"
    }
   ],
   "source": [
    "nmpermin(250)"
   ]
  },
  {
   "cell_type": "code",
   "execution_count": 100,
   "id": "896e3768-5056-41d8-9276-53cb8380cedd",
   "metadata": {},
   "outputs": [
    {
     "data": {
      "text/plain": [
       "1.0"
      ]
     },
     "execution_count": 100,
     "metadata": {},
     "output_type": "execute_result"
    }
   ],
   "source": [
    "mnm(1852)"
   ]
  },
  {
   "cell_type": "code",
   "execution_count": 8,
   "id": "fe961e99-d704-41aa-b536-349328be932c",
   "metadata": {},
   "outputs": [
    {
     "data": {
      "text/plain": [
       "45.23893421169303"
      ]
     },
     "execution_count": 8,
     "metadata": {},
     "output_type": "execute_result"
    }
   ],
   "source": [
    "banktime(180,1,250)*60"
   ]
  },
  {
   "cell_type": "code",
   "execution_count": 22,
   "id": "ca4573d5-0fe0-42a1-b2ed-93d83a6d04e7",
   "metadata": {},
   "outputs": [
    {
     "data": {
      "text/plain": [
       "39"
      ]
     },
     "execution_count": 22,
     "metadata": {},
     "output_type": "execute_result"
    }
   ],
   "source": [
    "bankangmarshal(250)"
   ]
  },
  {
   "cell_type": "code",
   "execution_count": 21,
   "id": "04ca1a95-636e-4a1e-b47a-dc36d2db3f93",
   "metadata": {},
   "outputs": [
    {
     "data": {
      "text/plain": [
       "1.3262911924324612"
      ]
     },
     "execution_count": 21,
     "metadata": {},
     "output_type": "execute_result"
    }
   ],
   "source": [
    "bankradiusmarshal(250)"
   ]
  },
  {
   "cell_type": "markdown",
   "id": "7fcaa114-a22a-4e87-8148-64294548263a",
   "metadata": {
    "jp-MarkdownHeadingCollapsed": true,
    "tags": []
   },
   "source": [
    " nmpermin(250)"
   ]
  },
  {
   "cell_type": "code",
   "execution_count": 26,
   "id": "b4133e61-e461-47e5-838e-b2b7b97c99c0",
   "metadata": {},
   "outputs": [
    {
     "data": {
      "text/plain": [
       "16.8"
      ]
     },
     "execution_count": 26,
     "metadata": {},
     "output_type": "execute_result"
    }
   ],
   "source": [
    "nmpermin(250)*4\n"
   ]
  },
  {
   "cell_type": "code",
   "execution_count": 12,
   "id": "e72f78b1-c71b-4035-8413-e4d2ce46b48f",
   "metadata": {},
   "outputs": [
    {
     "data": {
      "text/plain": [
       "743.0025561554362"
      ]
     },
     "execution_count": 12,
     "metadata": {},
     "output_type": "execute_result"
    },
    {
     "data": {
      "image/png": "[encoded data removed]",
      "text/plain": [
       "<Figure size 432x288 with 1 Axes>"
      ]
     },
     "metadata": {
      "needs_background": "light"
     },
     "output_type": "display_data"
    }
   ],
   "source": [
    "x = np.linspace(100,300)\n",
    "y = landing_d_rate(3,x)\n",
    "plt.xlabel(\"knots\")\n",
    "plt.ylabel(\"ft/min\")\n",
    "plt.grid()\n",
    "plt.plot(x,y)\n",
    "\n",
    "landing_d_rate(3,140)"
   ]
  },
  {
   "cell_type": "code",
   "execution_count": 8,
   "id": "5746af78-d48f-48ba-8b2a-87352d7e905c",
   "metadata": {},
   "outputs": [
    {
     "data": {
      "text/plain": [
       "[<matplotlib.lines.Line2D at 0x277ecdd6280>]"
      ]
     },
     "execution_count": 8,
     "metadata": {},
     "output_type": "execute_result"
    },
    {
     "data": {
      "image/png": "[encoded data removed]",
      "text/plain": [
       "<Figure size 432x288 with 1 Axes>"
      ]
     },
     "metadata": {
      "needs_background": "light"
     },
     "output_type": "display_data"
    }
   ],
   "source": [
    "x=np.linspace(0,1000)\n",
    "y = landing_xft_deg(3,x)\n",
    "plt.grid()\n",
    "plt.xlabel(\"nm\")\n",
    "plt.ylabel(\"ft\")\n",
    "plt.plot(y,x)"
   ]
  },
  {
   "cell_type": "code",
   "execution_count": 14,
   "id": "f07dff88-9e00-4c31-9575-7bf12a00d0aa",
   "metadata": {},
   "outputs": [
    {
     "data": {
      "text/plain": [
       "[<matplotlib.lines.Line2D at 0x1fb8aec7670>]"
      ]
     },
     "execution_count": 14,
     "metadata": {},
     "output_type": "execute_result"
    },
    {
     "data": {
      "image/png": "[encoded data removed]",
      "text/plain": [
       "<Figure size 432x288 with 1 Axes>"
      ]
     },
     "metadata": {
      "needs_background": "light"
     },
     "output_type": "display_data"
    }
   ],
   "source": [
    "x = np.linspace(100,300)\n",
    "y = nmpermin(x)\n",
    "plt.xlabel(\"knots\")\n",
    "plt.ylabel(\"nm/min\")\n",
    "plt.grid()\n",
    "plt.plot(x,y)\n",
    "\n"
   ]
  },
  {
   "cell_type": "code",
   "execution_count": null,
   "id": "69219db5-9e83-447d-8e06-ca21b7c24395",
   "metadata": {},
   "outputs": [],
   "source": []
  }
 ],
 "metadata": {
  "kernelspec": {
   "display_name": "Python 3 (ipykernel)",
   "language": "python",
   "name": "python3"
  },
  "language_info": {
   "codemirror_mode": {
    "name": "ipython",
    "version": 3
   },
   "file_extension": ".py",
   "mimetype": "text/x-python",
   "name": "python",
   "nbconvert_exporter": "python",
   "pygments_lexer": "ipython3",
   "version": "3.9.7"
  }
 },
 "nbformat": 4,
 "nbformat_minor": 5
}
